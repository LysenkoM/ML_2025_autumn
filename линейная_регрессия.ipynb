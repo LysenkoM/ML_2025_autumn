{
  "cells": [
    {
      "cell_type": "markdown",
      "metadata": {
        "id": "g5s9B-2LiEGU"
      },
      "source": [
        "# Домашнее задание 2 - предобработка признаков, pandas\n",
        "\n",
        "\n",
        "### О задании\n",
        "\n",
        "Практическое задание 2 посвящено изучению основных библиотек для анализа данных, а также линейных моделей и методов их обучения. Вы научитесь:\n",
        " * применять библиотеки NumPy и Pandas для осуществления желаемых преобразований;\n",
        " * подготавливать данные для обучения линейных моделей;\n",
        " * обучать линейную, Lasso и Ridge-регрессии при помощи модуля scikit-learn;\n",
        " * реализовывать обычный и стохастический градиентные спуски;\n",
        " * обучать линейную регрессию для произвольного функционала качества.\n",
        "\n",
        "\n",
        "### Оценивание и штрафы\n",
        "\n",
        "Каждая из задач имеет определенную «стоимость» (указана в скобках около задачи). Максимально допустимая оценка за работу — 10 баллов. Кроме того, некоторые из заданий являются опциональными (необязательными), однако за их выполнение можно получить дополнительные баллы, которые позднее будут учитываться при проставлении оценок автоматом по курсу.\n",
        "\n",
        "Сдавать задание после указанного срока сдачи нельзя. При выставлении неполного балла за задание в связи с наличием ошибок на усмотрение проверяющего предусмотрена возможность исправить работу на указанных в ответном письме условиях.\n",
        "\n",
        "Задание выполняется самостоятельно. «Похожие» решения считаются плагиатом и все задействованные студенты (в том числе те, у кого списали) не могут получить за него больше 0 баллов. Если вы нашли решение какого-то из заданий (или его часть) в открытом источнике, необходимо указать ссылку на этот источник в отдельном блоке в конце Вашей работы (скорее всего вы будете не единственным, кто это нашел, поэтому чтобы исключить подозрение в плагиате, необходима ссылка на источник).\n",
        "\n",
        "Неэффективная реализация кода может негативно отразиться на оценке.\n",
        "\n",
        "\n",
        "### Формат сдачи\n",
        "Для сдачи задания получившийся файл \\*.ipynb с решением необходимо выложить в свой репозиторий github."
      ]
    },
    {
      "cell_type": "markdown",
      "metadata": {
        "id": "YO_lOPQdiEGd"
      },
      "source": [
        "## Библиотеки для анализа данных\n",
        "\n",
        "### NumPy\n",
        "\n",
        "Во всех заданиях данного раздела запрещено использовать циклы  и list comprehensions. Под вектором и матрицей в данных заданиях понимается одномерный и двумерный numpy.array соответственно."
      ]
    },
    {
      "cell_type": "code",
      "execution_count": 34,
      "metadata": {
        "id": "53ho_PQAiEGh"
      },
      "outputs": [],
      "source": [
        "import numpy as np"
      ]
    },
    {
      "cell_type": "markdown",
      "metadata": {
        "id": "oMGff9UQiEGm"
      },
      "source": [
        "**1. (0.2 балла)** Реализуйте функцию, возвращающую максимальный элемент в векторе x среди элементов, перед которыми стоит нулевой. Для x = np.array([6, 2, 0, 3, 0, 0, 5, 7, 0]) ответом является 5. Если нулевых элементов нет, функция должна возвращать None.\n"
      ]
    },
    {
      "cell_type": "code",
      "execution_count": 35,
      "metadata": {
        "colab": {
          "base_uri": "https://localhost:8080/"
        },
        "id": "gQkXWoqniEGo",
        "outputId": "7ac7cea4-9dde-4399-ddc0-c667272b9f12"
      },
      "outputs": [
        {
          "output_type": "stream",
          "name": "stdout",
          "text": [
            "Максимальный элемент после нуля в ArrDelay: 326.0\n"
          ]
        }
      ],
      "source": [
        "import numpy as np\n",
        "\n",
        "def max_element(arr):\n",
        "    mask = arr[:-1] == 0  #логический массив из тру и фолз\n",
        "    if not np.any(mask):\n",
        "        return None\n",
        "    return arr[1:][mask].max()\n",
        "\n",
        "# Загружаем только числовые данные (текстовые заменяются на NaN)\n",
        "data = np.genfromtxt('2008.csv', delimiter=',', skip_header=1, dtype=float, filling_values=np.nan)\n",
        "\n",
        "# Пример: возьмём столбец ArrDelay (индекс 14)\n",
        "arr_delay = data[:, 14]\n",
        "\n",
        "# Убираем NaN\n",
        "arr_delay = arr_delay[~np.isnan(arr_delay)]\n",
        "\n",
        "result = max_element(arr_delay)\n",
        "\n",
        "print(\"Максимальный элемент после нуля в ArrDelay:\", result)"
      ]
    },
    {
      "cell_type": "markdown",
      "metadata": {
        "id": "Bex0tGkJiEGq"
      },
      "source": [
        "**2. (0.2 балла)** Реализуйте функцию, принимающую на вход матрицу и некоторое число и возвращающую ближайший к числу элемент матрицы. Например: для X = np.arange(0,10).reshape((2, 5)) и v = 3.6 ответом будет 4."
      ]
    },
    {
      "cell_type": "code",
      "execution_count": 36,
      "metadata": {
        "collapsed": true,
        "colab": {
          "base_uri": "https://localhost:8080/"
        },
        "id": "nBhQ0znKiEGs",
        "outputId": "92e5b85d-4c11-4909-b231-b890c515ba1b"
      },
      "outputs": [
        {
          "output_type": "stream",
          "name": "stdout",
          "text": [
            "[[0 1 2 3 4]\n",
            " [5 6 7 8 9]]\n",
            "4\n"
          ]
        }
      ],
      "source": [
        "import numpy as np\n",
        "\n",
        "def nearest_value(X, v):\n",
        "    # Находим индекс ближайшего элемента в плоском виде\n",
        "    idx = np.abs(X - v).argmin()\n",
        "    # Преобразуем индекс в координаты (строка, столбец)\n",
        "    coords = np.unravel_index(idx, X.shape)\n",
        "    # Возвр значение по этим координатам\n",
        "    return X[coords]\n",
        "\n",
        "X = np.arange(0, 10).reshape((2, 5))\n",
        "v = 3.6\n",
        "\n",
        "print(X)\n",
        "\n",
        "print(nearest_value(X, v))"
      ]
    },
    {
      "cell_type": "markdown",
      "metadata": {
        "id": "ZTtsJ6mZiEGu"
      },
      "source": [
        "**3. (0.2 балла)** Реализуйте функцию scale(X), которая принимает на вход матрицу и масштабирует каждый ее столбец (вычитает выборочное среднее и делит на стандартное отклонение). Убедитесь, что в функции не будет происходить деления на ноль. Протестируйте на случайной матрице (для её генерации можно использовать, например, функцию [numpy.random.randint](http://docs.scipy.org/doc/numpy/reference/generated/numpy.random.randint.html))."
      ]
    },
    {
      "cell_type": "code",
      "execution_count": 37,
      "metadata": {
        "collapsed": true,
        "colab": {
          "base_uri": "https://localhost:8080/"
        },
        "id": "pKRbzd9qiEGw",
        "outputId": "583af35e-2fdf-4543-b5f6-b9ed816b7940"
      },
      "outputs": [
        {
          "output_type": "stream",
          "name": "stdout",
          "text": [
            "Исходная матрица:\n",
            " [[1 3 2]\n",
            " [5 4 2]\n",
            " [1 2 3]\n",
            " [2 4 5]]\n",
            "\n",
            "Масштабированная матрица:\n",
            " [[-0.76249285 -0.30151134 -0.81649658]\n",
            " [ 1.67748427  0.90453403 -0.81649658]\n",
            " [-0.76249285 -1.50755672  0.        ]\n",
            " [-0.15249857  0.90453403  1.63299316]]\n",
            "\n",
            "Средние по столбцам: [1.38777878e-17 2.77555756e-17 0.00000000e+00]\n",
            "Ст. отклонение по столбцам: [1. 1. 1.]\n"
          ]
        }
      ],
      "source": [
        "def scale(X):\n",
        "\n",
        "    mean = X.mean(axis=0)              # Среднее по каждому столбцу\n",
        "    std = X.std(axis=0)                # Стандартное отклонение по каждому столбцу\n",
        "    std[std == 0] = 1                  # замена 0 на 1\n",
        "    return (X - mean) / std\n",
        "\n",
        "X = np.random.randint(0, 10, (4, 3))\n",
        "print(\"Исходная матрица:\\n\", X)\n",
        "\n",
        "X_scaled = scale(X)\n",
        "print(\"\\nМасштабированная матрица:\\n\", X_scaled)\n",
        "\n",
        "# теперь среднее примерно 0, стандартное отклонение примерно 1\n",
        "print(\"\\nСредние по столбцам:\", X_scaled.mean(axis=0))\n",
        "print(\"Ст. отклонение по столбцам:\", X_scaled.std(axis=0))"
      ]
    },
    {
      "cell_type": "markdown",
      "metadata": {
        "id": "lp3e11wziEGy"
      },
      "source": [
        "**4. (0.2 балла)** Реализуйте функцию, которая для заданной матрицы находит:\n",
        " - определитель\n",
        " - след\n",
        " - наименьший и наибольший элементы\n",
        " - норму Фробениуса\n",
        " - собственные числа\n",
        " - обратную матрицу\n",
        "\n",
        "Для тестирования сгенерируйте матрицу с элементами из нормального распределения $\\mathcal{N}$(10,1)"
      ]
    },
    {
      "cell_type": "code",
      "execution_count": 38,
      "metadata": {
        "colab": {
          "base_uri": "https://localhost:8080/"
        },
        "id": "CFMfZmo_iEG0",
        "outputId": "9c658770-b767-431b-bfa3-99040863236d"
      },
      "outputs": [
        {
          "output_type": "stream",
          "name": "stdout",
          "text": [
            "Матрица:\n",
            " [[ 9.1668079   8.5474092   9.36181095]\n",
            " [10.24061063 10.84015131  9.87937256]\n",
            " [ 9.88984807  9.65373864  9.89426599]]\n",
            "\n",
            "Определитель: -0.14443558724030614\n",
            "След: 29.901225188210752\n",
            "Мин элемент: 8.547409201391439\n",
            "Макс элемент: 10.840151306276194\n",
            "Норма Фробениуса: 29.21666182156579\n",
            "Собственные числа: [ 2.91521111e+01 -6.55649433e-03  7.55670574e-01]\n",
            "Обратная матрица:\n",
            " [[-82.26822702 -40.19879106 117.97928452]\n",
            " [ 25.04806291  13.07193374 -36.75237088]\n",
            " [ 57.79234302  27.42668378 -81.96660753]]\n"
          ]
        }
      ],
      "source": [
        "def get_stats(X):\n",
        "\n",
        "    det = np.linalg.det(X)           # Определитель\n",
        "    trace = np.trace(X)              # След\n",
        "    min_val = X.min()                # Мин элемент\n",
        "    max_val = X.max()                # Мак элемент\n",
        "    frob_norm = np.linalg.norm(X, 'fro')  # Норма Фробениуса\n",
        "    eigenvalues = np.linalg.eigvals(X)    # Собственные числа\n",
        "\n",
        "    # Проверяем, что определитель не 0\n",
        "    if np.isclose(det, 0):\n",
        "        inv_matrix = None\n",
        "    else:\n",
        "        inv_matrix = np.linalg.inv(X)     # Обратная матрица\n",
        "\n",
        "    return det, trace, min_val, max_val, frob_norm, eigenvalues, inv_matrix\n",
        "\n",
        "X = np.random.normal(10, 1, (3, 3))\n",
        "print(\"Матрица:\\n\", X)\n",
        "\n",
        "result = get_stats(X)\n",
        "print(\"\\nОпределитель:\", result[0])\n",
        "print(\"След:\", result[1])\n",
        "print(\"Мин элемент:\", result[2])\n",
        "print(\"Макс элемент:\", result[3])\n",
        "print(\"Норма Фробениуса:\", result[4])\n",
        "print(\"Собственные числа:\", result[5])\n",
        "print(\"Обратная матрица:\\n\", result[6])"
      ]
    },
    {
      "cell_type": "markdown",
      "metadata": {
        "id": "Ym3_puMpiEG1"
      },
      "source": [
        "**5. (0.2 балла)** Повторите 100 раз следующий эксперимент: сгенерируйте две матрицы размера 10×10 из стандартного нормального распределения, перемножьте их (как матрицы) и найдите максимальный элемент. Какое среднее значение по экспериментам у максимальных элементов? 95-процентная квантиль?"
      ]
    },
    {
      "cell_type": "code",
      "execution_count": 39,
      "metadata": {
        "collapsed": true,
        "colab": {
          "base_uri": "https://localhost:8080/"
        },
        "id": "DBX0vf8FiEG2",
        "outputId": "3aef9121-f1ab-4587-fae0-57403d2964b8"
      },
      "outputs": [
        {
          "output_type": "stream",
          "name": "stdout",
          "text": [
            "Среднее значение максимальных элементов: 8.0698\n",
            "95-процентная квантиль: 11.2342\n"
          ]
        }
      ],
      "source": [
        "max_values = []\n",
        "\n",
        "for exp_num in range(100):\n",
        "    A = np.random.randn(10, 10)\n",
        "    B = np.random.randn(10, 10)\n",
        "    C = A @ B                    #эквивалент np.dot (A, B)\n",
        "    max_values.append(C.max())\n",
        "\n",
        "max_values = np.array(max_values)\n",
        "\n",
        "mean_val = np.mean(max_values)  # среднее значение\n",
        "quantile_95 = np.quantile(max_values, 0.95)  # 95% квантиль - значение меньше которого 95 проц знач\n",
        "\n",
        "print(f\"Среднее значение максимальных элементов: {mean_val:.4f}\")\n",
        "print(f\"95-процентная квантиль: {quantile_95:.4f}\")"
      ]
    },
    {
      "cell_type": "markdown",
      "metadata": {
        "id": "x5UAZyTBiEG3"
      },
      "source": [
        "### Pandas\n",
        "\n",
        "![](https://metrouk2.files.wordpress.com/2015/10/panda.jpg)\n",
        "\n",
        "#### Ответьте на вопросы о данных по авиарейсам в США за январь-апрель 2008 года.\n",
        "\n",
        "Данные находятся в приложенном файле `2008.csv`. Их [описание](http://stat-computing.org/dataexpo/2009/the-data.html) приведено ниже:"
      ]
    },
    {
      "cell_type": "markdown",
      "metadata": {
        "id": "wtuLr01RiEG3"
      },
      "source": [
        "Airline on-time performance\n",
        "\n",
        "Have you ever been stuck in an airport because your flight was delayed or cancelled and wondered if you could have predicted it if you'd had more data? This is your chance to find out.\n",
        "\n",
        "The data\n",
        "The data set is available for download here.\n",
        "The data consists of flight arrival and departure details for all commercial flights within the USA, from October 1987 to April 2008. This is a large dataset: there are nearly 120 million records in total, and takes up 1.6 gigabytes of space compressed and 12 gigabytes when uncompressed.\n",
        "\n",
        "Understanding and preparing the data\n",
        "In order to answer above questions, we are going to analyze the provided dataset, containing up to 1936758 ### different internal flights in the US for 2008 and their causes for delay, diversion and cancellation\n",
        "\n",
        "The data comes from the U.S. Department of Transportation’s (DOT) Bureau of Transportation Statistics (BTS). Meta data explanations\n",
        "\n",
        "This dataset is composed by the following variables:\n",
        "\n",
        "**Year** 2008 **Month** 1-12 **DayofMonth** 1-31 **DayOfWeek** 1 (Monday) - 7 (Sunday)  \n",
        "**DepTime** actual departure time (local, hhmm)  \n",
        "**CRSDepTime** scheduled departure time (local, hhmm)  \n",
        "**ArrTime** actual arrival time (local, hhmm)  \n",
        "**CRSArrTime** scheduled arrival time (local, hhmm)  \n",
        "**UniqueCarrier** unique carrier code  \n",
        "**FlightNum** flight number  \n",
        "**TailNum** plane tail number: aircraft registration, unique aircraft identifier  \n",
        "**ActualElapsedTime** in minutes  \n",
        "**CRSElapsedTime** in minutes  \n",
        "**AirTime** in minutes  \n",
        "**ArrDelay** arrival delay, in minutes: A flight is counted as “on time” if it operated less than 15 minutes later the scheduled time shown in the carriers’ Computerized Reservations Systems (CRS).  \n",
        "**DepDelay** departure delay, in minutes  \n",
        "**Origin** origin IATA airport code  \n",
        "**Dest** destination IATA airport code  \n",
        "**Distance** in miles  \n",
        "**TaxiIn** taxi in time, in minutes  \n",
        "**TaxiOut** taxi out time in minutes  \n",
        "**Cancelled** *was the flight cancelled  \n",
        "**CancellationCode** reason for cancellation (A = carrier, B = weather, C = NAS, D = security)  \n",
        "**Diverted** 1 = yes, 0 = no  \n",
        "**CarrierDelay** in minutes: Carrier delay is within the control of the air carrier. Examples of occurrences that may determine carrier delay are: aircraft cleaning, aircraft damage, awaiting the arrival of connecting passengers or crew, baggage, bird strike, cargo loading, catering, computer, outage-carrier equipment, crew legality (pilot or attendant rest), damage by hazardous goods, engineering inspection, fueling, handling disabled passengers, late crew, lavatory servicing, maintenance, oversales, potable water servicing, removal of unruly passenger, slow boarding or seating, stowing carry-on baggage, weight and balance delays.  \n",
        "**WeatherDelay** in minutes: Weather delay is caused by extreme or hazardous weather conditions that are forecasted or manifest themselves on point of departure, enroute, or on point of arrival.  \n",
        "**NASDelay** in minutes: Delay that is within the control of the National Airspace System (NAS) may include: non-extreme weather conditions, airport operations, heavy traffic volume, air traffic control, etc.  \n",
        "**SecurityDelay** in minutes: Security delay is caused by evacuation of a terminal or concourse, re-boarding of aircraft because of security breach, inoperative screening equipment and/or long lines in excess of 29 minutes at screening areas.  \n",
        "**LateAircraftDelay** in minutes: Arrival delay at an airport due to the late arrival of the same aircraft at a previous airport. The ripple effect of an earlier delay at downstream airports is referred to as delay propagation."
      ]
    },
    {
      "cell_type": "code",
      "execution_count": 40,
      "metadata": {
        "id": "QnWd_iFwiEG4"
      },
      "outputs": [],
      "source": [
        "import pandas as pd\n",
        "%matplotlib inline"
      ]
    },
    {
      "cell_type": "markdown",
      "metadata": {
        "id": "x5Le5GLriEG5"
      },
      "source": [
        "**6. (0.3 балла)** Какая из причин отмены рейса (`CancellationCode`) была самой частой? (расшифровки кодов можно найти в описании данных)"
      ]
    },
    {
      "cell_type": "code",
      "execution_count": 41,
      "metadata": {
        "colab": {
          "base_uri": "https://localhost:8080/"
        },
        "id": "hmyYTmF2iEG6",
        "outputId": "f64a0def-1ff5-4821-f280-f5724dae0bd3"
      },
      "outputs": [
        {
          "output_type": "stream",
          "name": "stdout",
          "text": [
            "Количество отмен по причинам:\n",
            "CancellationCode\n",
            "A    563\n",
            "B    549\n",
            "C    299\n",
            "Name: count, dtype: int64\n",
            "\n",
            "Самая частая причина отмены:\n",
            "Код: A → Carrier — вина авиакомпании\n",
            "Количество отмен: 563\n"
          ]
        }
      ],
      "source": [
        "cols = [\"Cancelled\", \"CancellationCode\"]\n",
        "\n",
        "df = pd.read_csv(\"2008.csv\", usecols=cols)\n",
        "\n",
        "cancelled = df[df[\"Cancelled\"] == 1]\n",
        "\n",
        "cancel_counts = cancelled[\"CancellationCode\"].value_counts()\n",
        "\n",
        "most_common_code = cancel_counts.idxmax()\n",
        "most_common_count = cancel_counts.max()\n",
        "\n",
        "reasons = {\n",
        "    \"A\": \"Carrier — вина авиакомпании\",\n",
        "    \"B\": \"Weather — погодные условия\",\n",
        "    \"C\": \"NAS — национальная система воздушного движения (аэропорт, трафик)\",\n",
        "    \"D\": \"Security — причины безопасности\"\n",
        "}\n",
        "\n",
        "print(\"Количество отмен по причинам:\")\n",
        "print(cancel_counts)\n",
        "print(\"\\nСамая частая причина отмены:\")\n",
        "print(f\"Код: {most_common_code} → {reasons.get(most_common_code, 'Неизвестно')}\")\n",
        "print(f\"Количество отмен: {most_common_count}\")"
      ]
    },
    {
      "cell_type": "markdown",
      "metadata": {
        "id": "4lxX9tB5iEG7"
      },
      "source": [
        "**7. (0.3 балла)** Найдите среднее, минимальное и максимальное расстояние, пройденное самолетом."
      ]
    },
    {
      "cell_type": "code",
      "execution_count": 42,
      "metadata": {
        "collapsed": true,
        "colab": {
          "base_uri": "https://localhost:8080/"
        },
        "id": "HAU8qYlYiEG7",
        "outputId": "b9b39850-2f9a-4871-91c1-eb2763024aec"
      },
      "outputs": [
        {
          "output_type": "stream",
          "name": "stdout",
          "text": [
            "Среднее расстояние: 724.51 миль\n",
            "Минимальное расстояние: 31.00 миль\n",
            "Максимальное расстояние: 4962.00 миль\n"
          ]
        }
      ],
      "source": [
        "df = pd.read_csv(\"2008.csv\", usecols=[\"Distance\"])\n",
        "\n",
        "df = df.dropna(subset=[\"Distance\"])\n",
        "\n",
        "mean_distance = df[\"Distance\"].mean()\n",
        "min_distance = df[\"Distance\"].min()\n",
        "max_distance = df[\"Distance\"].max()\n",
        "\n",
        "print(f\"Среднее расстояние: {mean_distance:.2f} миль\")\n",
        "print(f\"Минимальное расстояние: {min_distance:.2f} миль\")\n",
        "print(f\"Максимальное расстояние: {max_distance:.2f} миль\")"
      ]
    },
    {
      "cell_type": "markdown",
      "metadata": {
        "id": "3FLLnYoHiEG8"
      },
      "source": [
        "**8. (0.3 балла)** Не выглядит ли подозрительным минимальное пройденное расстояние? В какие дни и на каких рейсах оно было? Какое расстояние было пройдено этими же рейсами в другие дни?"
      ]
    },
    {
      "cell_type": "code",
      "execution_count": 43,
      "metadata": {
        "collapsed": true,
        "colab": {
          "base_uri": "https://localhost:8080/"
        },
        "id": "wD8JLV_1iEG8",
        "outputId": "3b0092d2-17d2-4fd7-ee60-7e0e81c481a8"
      },
      "outputs": [
        {
          "output_type": "stream",
          "name": "stdout",
          "text": [
            "Среднее расстояние: 724.51 миль\n",
            "Минимальное расстояние: 31.00 миль\n",
            "Максимальное расстояние: 4962.00 миль\n"
          ]
        }
      ],
      "source": [
        "df = pd.read_csv(\"2008.csv\", usecols=[\"Distance\"])\n",
        "# Удаляем возможные пропуски\n",
        "df = df.dropna(subset=[\"Distance\"])\n",
        "\n",
        "# Считаем статистику\n",
        "mean_distance = df[\"Distance\"].mean()\n",
        "min_distance = df[\"Distance\"].min()\n",
        "max_distance = df[\"Distance\"].max()\n",
        "\n",
        "print(f\"Среднее расстояние: {mean_distance:.2f} миль\")\n",
        "print(f\"Минимальное расстояние: {min_distance:.2f} миль\")\n",
        "print(f\"Максимальное расстояние: {max_distance:.2f} миль\")"
      ]
    },
    {
      "cell_type": "markdown",
      "metadata": {
        "id": "p1hUASdOiEG9"
      },
      "source": [
        "**9. (0.3 балла)** Из какого аэропорта было произведено больше всего вылетов? В каком городе он находится?"
      ]
    },
    {
      "cell_type": "code",
      "execution_count": 44,
      "metadata": {
        "collapsed": true,
        "colab": {
          "base_uri": "https://localhost:8080/"
        },
        "id": "duJRcJMAiEG9",
        "outputId": "29461a51-254b-4027-b95c-36ebe2bc434f"
      },
      "outputs": [
        {
          "output_type": "stream",
          "name": "stdout",
          "text": [
            "Аэропорт с наибольшим числом вылетов: ATL\n",
            "Количество вылетов: 4134\n"
          ]
        }
      ],
      "source": [
        "df = pd.read_csv(\"2008.csv\", usecols=[\"Origin\"])\n",
        "\n",
        "origin_counts = df[\"Origin\"].value_counts()\n",
        "\n",
        "most_frequent_origin = origin_counts.idxmax()\n",
        "num_flights = origin_counts.max()\n",
        "\n",
        "print(f\"Аэропорт с наибольшим числом вылетов: {most_frequent_origin}\")\n",
        "print(f\"Количество вылетов: {num_flights}\")"
      ]
    },
    {
      "cell_type": "markdown",
      "metadata": {
        "id": "i5FVvz6JiEG-"
      },
      "source": [
        "**10. (0.3 балла)** Найдите для каждого аэропорта среднее время полета (`AirTime`) по всем вылетевшим из него рейсам. Какой аэропорт имеет наибольшее значение этого показателя?"
      ]
    },
    {
      "cell_type": "code",
      "execution_count": 45,
      "metadata": {
        "collapsed": true,
        "colab": {
          "base_uri": "https://localhost:8080/"
        },
        "id": "PmJdNBYtiEG-",
        "outputId": "0ff0a3f0-1da5-4b99-a8f5-18f5259c8425"
      },
      "outputs": [
        {
          "output_type": "stream",
          "name": "stdout",
          "text": [
            "Аэропорт с наибольшим средним временем полёта:\n",
            "SJU — среднее время 205.20 минут\n"
          ]
        }
      ],
      "source": [
        "df = pd.read_csv(\"2008.csv\", usecols=[\"Origin\", \"AirTime\"])\n",
        "\n",
        "# Убираем строки с пропущенными значениями времени полета\n",
        "df = df.dropna(subset=[\"AirTime\"])\n",
        "\n",
        "# Считаем среднее время полета для каждого аэропорта\n",
        "mean_airtime_by_origin = df.groupby(\"Origin\")[\"AirTime\"].mean()\n",
        "\n",
        "max_origin = mean_airtime_by_origin.idxmax()\n",
        "max_value = mean_airtime_by_origin.max()\n",
        "\n",
        "print(\"Аэропорт с наибольшим средним временем полёта:\")\n",
        "print(f\"{max_origin} — среднее время {max_value:.2f} минут\")"
      ]
    },
    {
      "cell_type": "markdown",
      "metadata": {
        "id": "_73zq9cTiEG_"
      },
      "source": [
        "**11. (0.5 балла)** Найдите аэропорт, у которого наибольшая доля задержанных (`DepDelay > 0`) рейсов. Исключите при этом из рассмотрения аэропорты, из которых было отправлено меньше 1000 рейсов (используйте функцию `filter` после `groupby`)."
      ]
    },
    {
      "cell_type": "code",
      "execution_count": 46,
      "metadata": {
        "colab": {
          "base_uri": "https://localhost:8080/"
        },
        "id": "4MD1nCTBiEG_",
        "outputId": "0aa3f834-9f15-4da5-cc56-a5fd946528f0"
      },
      "outputs": [
        {
          "output_type": "stream",
          "name": "stdout",
          "text": [
            "Аэропорт с наибольшей долей задержанных рейсов: EWR\n",
            "Доля задержанных рейсов: 52.87%\n"
          ]
        }
      ],
      "source": [
        "df = pd.read_csv(\"2008.csv\", usecols=[\"Origin\", \"DepDelay\"])\n",
        "\n",
        "df = df.dropna(subset=[\"DepDelay\"])\n",
        "\n",
        "# задержан ли рейс\n",
        "df[\"Delayed\"] = df[\"DepDelay\"] > 0\n",
        "\n",
        "grouped = df.groupby(\"Origin\")\n",
        "\n",
        "filtered = grouped.filter(lambda x: len(x) >= 1000)\n",
        "\n",
        "# доля задержанных\n",
        "delay_share = filtered.groupby(\"Origin\")[\"Delayed\"].mean()\n",
        "\n",
        "# находим аэропорт с наибольшей долей задержек\n",
        "max_origin = delay_share.idxmax()\n",
        "max_share = delay_share.max()\n",
        "\n",
        "print(f\"Аэропорт с наибольшей долей задержанных рейсов: {max_origin}\")\n",
        "print(f\"Доля задержанных рейсов: {max_share:.2%}\")"
      ]
    },
    {
      "cell_type": "markdown",
      "metadata": {
        "id": "jul6dAD8iEHA"
      },
      "source": [
        "## Линейная регрессия\n",
        "\n",
        "В этой части мы разберемся с линейной регрессией, способами её обучения и измерением качества ее прогнозов.\n",
        "\n",
        "Будем рассматривать датасет из предыдущей части задания для предсказания времени задержки отправления рейса в минутах (DepDelay). Отметим, что под задержкой подразумевается не только опоздание рейса относительно планируемого времени вылета, но и отправление до планируемого времени.\n",
        "\n",
        "### Подготовка данных\n",
        "\n",
        "**12. (0.5 балла)** Считайте выборку из файла при помощи функции pd.read_csv и ответьте на следующие вопросы:\n",
        "   - Имеются ли в данных пропущенные значения?\n",
        "   - Сколько всего пропущенных элементов в таблице \"объект-признак\"?\n",
        "   - Сколько объектов имеют хотя бы один пропуск?\n",
        "   - Сколько признаков имеют хотя бы одно пропущенное значение?"
      ]
    },
    {
      "cell_type": "code",
      "execution_count": 47,
      "metadata": {
        "scrolled": true,
        "colab": {
          "base_uri": "https://localhost:8080/"
        },
        "id": "cQ-gPHrOiEHA",
        "outputId": "a12ceed9-0d1b-4925-ae5e-9bdd3a50e65e"
      },
      "outputs": [
        {
          "output_type": "stream",
          "name": "stdout",
          "text": [
            "Имеются ли пропущенные значения: True\n",
            "Всего пропущенных элементов в таблице: 355215\n",
            "Количество объектов с хотя бы одним пропуском: 70000\n",
            "Количество признаков с хотя бы одним пропущенным значением: 16\n"
          ]
        }
      ],
      "source": [
        "df = pd.read_csv(\"2008.csv\")\n",
        "\n",
        "# проверяем, есть ли пропуски\n",
        "has_missing = df.isnull().values.any()\n",
        "print(\"Имеются ли пропущенные значения:\", has_missing)\n",
        "\n",
        "total_missing = df.isnull().sum().sum()\n",
        "print(\"Всего пропущенных элементов в таблице:\", total_missing)\n",
        "\n",
        "# сколько строк имеют хотя бы один пропуск\n",
        "rows_with_missing = df.isnull().any(axis=1).sum()\n",
        "print(\"Количество объектов с хотя бы одним пропуском:\", rows_with_missing)\n",
        "\n",
        "# сколько столбцов имеют хотя бы одно пропущенное значение\n",
        "cols_with_missing = df.isnull().any(axis=0).sum()\n",
        "print(\"Количество признаков с хотя бы одним пропущенным значением:\", cols_with_missing)"
      ]
    },
    {
      "cell_type": "markdown",
      "metadata": {
        "id": "lspghNp8iEHA"
      },
      "source": [
        "Как вы понимаете, также не имеет смысла рассматривать при решении поставленной задачи объекты с пропущенным значением целевой переменной. В связи с этим ответьте на следующие вопросы и выполните соответствующие действия:\n",
        "- Имеются ли пропущенные значения в целевой переменной?\n",
        "- Проанализируйте объекты с пропущенными значениями целевой переменной. Чем вызвано это явление? Что их объединяет? Можно ли в связи с этим, на ваш взгляд, исключить какие-то признаки из рассмотрения? Обоснуйте свою точку зрения.\n",
        "\n",
        "Исключите из выборки объекты **с пропущенным значением целевой переменной и со значением целевой переменной, равным 0**, а также при необходимости исключите признаки в соответствии с вашим ответом на последний вопрос из списка и выделите целевую переменную в отдельный вектор, исключив её из матрицы \"объект-признак\"."
      ]
    },
    {
      "cell_type": "code",
      "execution_count": 48,
      "metadata": {
        "collapsed": true,
        "colab": {
          "base_uri": "https://localhost:8080/"
        },
        "id": "SkpkJXAHiEHB",
        "outputId": "41c472fa-f4d7-4737-beda-2ae5a4168878"
      },
      "outputs": [
        {
          "output_type": "stream",
          "name": "stdout",
          "text": [
            "Пропущенные значения в DepDelay: 1399\n",
            "Пример объектов с пропущенной DepDelay:\n",
            "     Year  Month  DayofMonth  DayOfWeek  DepTime  CRSDepTime  ArrTime  \\\n",
            "11   2008      3           6          4      NaN        1605      NaN   \n",
            "78   2008      1          19          6      NaN         750      NaN   \n",
            "103  2008      7          24          4      NaN        1230      NaN   \n",
            "112  2008      2           4          1      NaN         620      NaN   \n",
            "128  2008      1          21          1      NaN        1838      NaN   \n",
            "\n",
            "     CRSArrTime UniqueCarrier  FlightNum  ... TaxiIn  TaxiOut  Cancelled  \\\n",
            "11         1940            AA        484  ...    NaN      NaN          1   \n",
            "78          930            EV       4772  ...    NaN      NaN          1   \n",
            "103        1355            FL        816  ...    NaN      NaN          1   \n",
            "112         758            NW       1281  ...    NaN      NaN          1   \n",
            "128        2005            UA       1251  ...    NaN      NaN          1   \n",
            "\n",
            "     CancellationCode  Diverted  CarrierDelay WeatherDelay NASDelay  \\\n",
            "11                  B         0           NaN          NaN      NaN   \n",
            "78                  B         0           NaN          NaN      NaN   \n",
            "103                 A         0           NaN          NaN      NaN   \n",
            "112                 B         0           NaN          NaN      NaN   \n",
            "128                 A         0           NaN          NaN      NaN   \n",
            "\n",
            "     SecurityDelay  LateAircraftDelay  \n",
            "11             NaN                NaN  \n",
            "78             NaN                NaN  \n",
            "103            NaN                NaN  \n",
            "112            NaN                NaN  \n",
            "128            NaN                NaN  \n",
            "\n",
            "[5 rows x 29 columns]\n",
            "Размер матрицы признаков X: (63404, 26)\n",
            "Размер вектора целевой переменной y: (63404,)\n",
            "Есть ли пропуски в X: True\n"
          ]
        }
      ],
      "source": [
        "\n",
        "df = pd.read_csv(\"2008.csv\")\n",
        "\n",
        "missing_depdelay = df['DepDelay'].isnull().sum()\n",
        "print(\"Пропущенные значения в DepDelay:\", missing_depdelay)\n",
        "\n",
        "print(\"Пример объектов с пропущенной DepDelay:\")\n",
        "print(df[df['DepDelay'].isnull()].head())\n",
        "\n",
        "df = df.dropna(subset=['DepDelay'])\n",
        "\n",
        "df = df[df['DepDelay'] != 0]\n",
        "\n",
        "df = df.drop(columns=['Cancelled', 'Diverted'], errors='ignore')\n",
        "\n",
        "y = df['DepDelay']\n",
        "X = df.drop(columns=['DepDelay'])\n",
        "\n",
        "print(\"Размер матрицы признаков X:\", X.shape)\n",
        "print(\"Размер вектора целевой переменной y:\", y.shape)\n",
        "print(\"Есть ли пропуски в X:\", X.isnull().values.any())"
      ]
    },
    {
      "cell_type": "markdown",
      "metadata": {
        "id": "3fBXBz52iEHB"
      },
      "source": [
        "**13. (0.5 балла)** Обратите внимание, что признаки DepTime, CRSDepTime, ArrTime, CRSArrTime приведены в формате hhmm, в связи с чем будет не вполне корректно рассматривать их как вещественные.\n",
        "\n",
        "Преобразуйте каждый признак FeatureName из указанных в пару новых признаков FeatureName\\_Hour, FeatureName\\_Minute, разделив каждое из значений на часы и минуты. Не забудьте при этом исключить исходный признак из выборки. В случае, если значение признака отсутствует, значения двух новых признаков, его заменяющих, также должны отсутствовать.\n",
        "\n",
        "Например, признак DepTime необходимо заменить на пару признаков DepTime_Hour, DepTime_Minute. При этом, например, значение 155 исходного признака будет преобразовано в значения 1 и 55 признаков DepTime_Hour, DepTime_Minute соответственно."
      ]
    },
    {
      "cell_type": "code",
      "execution_count": 49,
      "metadata": {
        "collapsed": true,
        "colab": {
          "base_uri": "https://localhost:8080/"
        },
        "id": "QCPORKZeiEHC",
        "outputId": "4a37cbbf-1554-4d60-deae-732d91360aaf"
      },
      "outputs": [
        {
          "output_type": "stream",
          "name": "stdout",
          "text": [
            "   Year  Month  DayofMonth  DayOfWeek UniqueCarrier  FlightNum TailNum  \\\n",
            "0  2008      6          18          3            WN        242  N699SW   \n",
            "1  2008      6           4          3            XE       2380  N15980   \n",
            "2  2008      8           3          7            WN       1769  N464WN   \n",
            "3  2008      1          23          3            OO       3802  N465SW   \n",
            "4  2008      5           4          7            WN        399  N489WN   \n",
            "\n",
            "   ActualElapsedTime  CRSElapsedTime  AirTime  ...  SecurityDelay  \\\n",
            "0               57.0            65.0     46.0  ...            NaN   \n",
            "1              124.0           138.0    108.0  ...            NaN   \n",
            "2              138.0           155.0    125.0  ...            NaN   \n",
            "3              102.0           111.0     79.0  ...            NaN   \n",
            "4              148.0           160.0    136.0  ...            NaN   \n",
            "\n",
            "   LateAircraftDelay DepTime_Hour DepTime_Minute  CRSDepTime_Hour  \\\n",
            "0                NaN         21.0           11.0             20.0   \n",
            "1                NaN         14.0           26.0             14.0   \n",
            "2                NaN         11.0           43.0             11.0   \n",
            "3                NaN         11.0           41.0             11.0   \n",
            "4                NaN          8.0           15.0              8.0   \n",
            "\n",
            "   CRSDepTime_Minute  ArrTime_Hour ArrTime_Minute  CRSArrTime_Hour  \\\n",
            "0               55.0          23.0            8.0             23.0   \n",
            "1               10.0          17.0           30.0             17.0   \n",
            "2               45.0          15.0            1.0             15.0   \n",
            "3               44.0          13.0           23.0             13.0   \n",
            "4               20.0          12.0           43.0             13.0   \n",
            "\n",
            "   CRSArrTime_Minute  \n",
            "0                0.0  \n",
            "1               28.0  \n",
            "2               20.0  \n",
            "3               35.0  \n",
            "4                0.0  \n",
            "\n",
            "[5 rows x 31 columns]\n"
          ]
        }
      ],
      "source": [
        "time_features = ['DepTime', 'CRSDepTime', 'ArrTime', 'CRSArrTime']\n",
        "\n",
        "for feature in time_features:\n",
        "\n",
        "    col = df[feature]\n",
        "\n",
        "    # Создаём колонки для часов и минут\n",
        "    df[feature + '_Hour'] = col.dropna().astype(int) // 100\n",
        "    df[feature + '_Minute'] = col.dropna().astype(int) % 100\n",
        "\n",
        "    # Присваиваем NaN там, где был пропуск\n",
        "    df.loc[col.isnull(), feature + '_Hour'] = np.nan\n",
        "    df.loc[col.isnull(), feature + '_Minute'] = np.nan\n",
        "\n",
        "    df = df.drop(columns=[feature])\n",
        "\n",
        "print(df.head())"
      ]
    },
    {
      "cell_type": "markdown",
      "metadata": {
        "id": "CIr38tjWiEHC"
      },
      "source": [
        "**14. (0.5 балла)** Некоторые из признаков, отличных от целевой переменной, могут оказывать чересчур значимое влияние на прогноз, поскольку по своему смыслу содержат большую долю информации о значении целевой переменной. Изучите описание датасета и исключите признаки, сильно коррелирующие с ответами. Ваш выбор признаков для исключения из выборки обоснуйте. Кроме того, исключите признаки TailNum и Year."
      ]
    },
    {
      "cell_type": "code",
      "execution_count": 50,
      "metadata": {
        "collapsed": true,
        "colab": {
          "base_uri": "https://localhost:8080/"
        },
        "id": "p5cYU3MfiEHC",
        "outputId": "f27e69aa-271d-42a2-e6f8-3b1be0695820"
      },
      "outputs": [
        {
          "output_type": "stream",
          "name": "stdout",
          "text": [
            "Оставшиеся признаки после исключения сильно коррелирующих и идентифицирующих:\n",
            "Index(['Month', 'DayofMonth', 'DayOfWeek', 'DepTime', 'CRSDepTime', 'ArrTime',\n",
            "       'CRSArrTime', 'UniqueCarrier', 'FlightNum', 'ArrDelay', 'Origin',\n",
            "       'Dest', 'Distance', 'TaxiIn', 'TaxiOut', 'CancellationCode',\n",
            "       'CarrierDelay', 'WeatherDelay', 'NASDelay', 'SecurityDelay',\n",
            "       'LateAircraftDelay'],\n",
            "      dtype='object')\n"
          ]
        }
      ],
      "source": [
        "features_to_drop = [\n",
        "    'CRSArrTime_Hour', 'CRSArrTime_Minute',\n",
        "    'ArrTime_Hour', 'ArrTime_Minute',\n",
        "    'ActualElapsedTime', 'AirTime', 'CRSElapsedTime',\n",
        "    'TailNum', 'Year'\n",
        "]\n",
        "\n",
        "X.drop(columns=[col for col in features_to_drop if col in X.columns], inplace=True)\n",
        "\n",
        "print(\"Оставшиеся признаки после исключения сильно коррелирующих и идентифицирующих:\")\n",
        "print(X.columns)"
      ]
    },
    {
      "cell_type": "markdown",
      "metadata": {
        "id": "wDAAKtQ_iEHC"
      },
      "source": [
        "**15. (1 балл)** Приведем данные к виду, пригодному для обучения линейных моделей. Для этого вещественные признаки надо отмасштабировать, а категориальные — привести к числовому виду. Также надо устранить пропуски в данных."
      ]
    },
    {
      "cell_type": "markdown",
      "metadata": {
        "id": "FyhBvk3miEHD"
      },
      "source": [
        "В первую очередь поймем, зачем необходимо применять масштабирование. Следующие ячейки с кодом построят гистограммы для 3 вещественных признаков выборки."
      ]
    },
    {
      "cell_type": "code",
      "execution_count": 51,
      "metadata": {
        "scrolled": true,
        "colab": {
          "base_uri": "https://localhost:8080/",
          "height": 447
        },
        "id": "hwn74opxiEHD",
        "outputId": "508aee01-11cc-4044-aacf-7a6496362092"
      },
      "outputs": [
        {
          "output_type": "execute_result",
          "data": {
            "text/plain": [
              "<Axes: >"
            ]
          },
          "metadata": {},
          "execution_count": 51
        },
        {
          "output_type": "display_data",
          "data": {
            "text/plain": [
              "<Figure size 640x480 with 1 Axes>"
            ],
            "image/png": "[encoded data removed]"
          },
          "metadata": {}
        }
      ],
      "source": [
        "X['DepTime'].hist(bins=20)"
      ]
    },
    {
      "cell_type": "code",
      "execution_count": 52,
      "metadata": {
        "colab": {
          "base_uri": "https://localhost:8080/",
          "height": 447
        },
        "id": "X4pS3MIYiEHM",
        "outputId": "2bf2c347-f6d9-4746-868c-9d46ca237e02"
      },
      "outputs": [
        {
          "output_type": "execute_result",
          "data": {
            "text/plain": [
              "<Axes: >"
            ]
          },
          "metadata": {},
          "execution_count": 52
        },
        {
          "output_type": "display_data",
          "data": {
            "text/plain": [
              "<Figure size 640x480 with 1 Axes>"
            ],
            "image/png": "[encoded data removed]"
          },
          "metadata": {}
        }
      ],
      "source": [
        "X['TaxiIn'].hist(bins=20)"
      ]
    },
    {
      "cell_type": "code",
      "execution_count": 53,
      "metadata": {
        "colab": {
          "base_uri": "https://localhost:8080/",
          "height": 447
        },
        "id": "fNdqJ9rYiEHN",
        "outputId": "aacb7247-ab52-4813-90d3-4bb9cdd1a650"
      },
      "outputs": [
        {
          "output_type": "execute_result",
          "data": {
            "text/plain": [
              "<Axes: >"
            ]
          },
          "metadata": {},
          "execution_count": 53
        },
        {
          "output_type": "display_data",
          "data": {
            "text/plain": [
              "<Figure size 640x480 with 1 Axes>"
            ],
            "image/png": "[encoded data removed]"
          },
          "metadata": {}
        }
      ],
      "source": [
        "X['FlightNum'].hist(bins=20)"
      ]
    },
    {
      "cell_type": "markdown",
      "metadata": {
        "id": "aAhihVPLiEHN"
      },
      "source": [
        "Какую проблему вы наблюдаете на этих графиках? Как масштабирование поможет её исправить?"
      ]
    },
    {
      "cell_type": "raw",
      "metadata": {
        "id": "MU88CVjriEHN"
      },
      "source": []
    },
    {
      "cell_type": "markdown",
      "metadata": {
        "id": "2A7IltToiEHN"
      },
      "source": [
        "Некоторые из признаков в нашем датасете являются категориальными. Типичным подходом к работе с ними является бинарное, или [one-hot-кодирование](https://en.wikipedia.org/wiki/One-hot).\n",
        "\n",
        "Реализуйте функцию transform_data, которая принимает на вход DataFrame с признаками и выполняет следующие шаги:\n",
        "1. Замена пропущенных значений на нули для вещественных признаков и на строки 'nan' для категориальных.\n",
        "2. Масштабирование вещественных признаков с помощью [StandardScaler](http://scikit-learn.org/stable/modules/generated/sklearn.preprocessing.StandardScaler.html).\n",
        "3. One-hot-кодирование категориальных признаков с помощью [DictVectorizer](http://scikit-learn.org/stable/modules/generated/sklearn.feature_extraction.DictVectorizer.html) или функции [pd.get_dummies](http://pandas.pydata.org/pandas-docs/stable/generated/pandas.get_dummies.html).\n",
        "\n",
        "Метод должен возвращать преобразованный DataFrame, который должна состоять из масштабированных вещественных признаков и закодированных категориальных (исходные признаки должны быть исключены из выборки)."
      ]
    },
    {
      "cell_type": "code",
      "execution_count": 54,
      "metadata": {
        "collapsed": true,
        "colab": {
          "base_uri": "https://localhost:8080/"
        },
        "id": "wsCUY30eiEHO",
        "outputId": "b4688d85-9de1-4dec-b9a6-a9c863cd2452"
      },
      "outputs": [
        {
          "output_type": "stream",
          "name": "stdout",
          "text": [
            "      Month  DayofMonth  DayOfWeek   DepTime  CRSDepTime   ArrTime  \\\n",
            "0 -0.118281    0.256485  -0.462767  1.619996    1.569619  1.621769   \n",
            "1 -0.118281   -1.332050  -0.462767  0.187389    0.177417  0.490657   \n",
            "2  0.467662   -1.445517   1.541454 -0.404477   -0.394573  0.042518   \n",
            "3 -1.583137    0.823819  -0.462767 -0.408659   -0.396731 -0.305818   \n",
            "4 -0.411252   -1.332050   1.541454 -1.090455   -1.096070 -0.462373   \n",
            "\n",
            "   CRSArrTime  FlightNum  ArrDelay  Distance  ...  Dest_VPS  Dest_WRG  \\\n",
            "0    1.665462  -0.991600 -0.021975 -0.744130  ...     False     False   \n",
            "1    0.479678   0.106546 -0.175419  0.183961  ...     False     False   \n",
            "2    0.048483  -0.207284 -0.712473  0.471018  ...     False     False   \n",
            "3   -0.335031   0.836931 -0.533455 -0.347886  ...     False     False   \n",
            "4   -0.407588  -0.910960 -0.661325  0.634799  ...     False     False   \n",
            "\n",
            "   Dest_WYS  Dest_XNA  Dest_YAK  Dest_YKM  Dest_YUM  CancellationCode_A  \\\n",
            "0     False     False     False     False     False               False   \n",
            "1     False     False     False     False     False               False   \n",
            "2     False     False     False     False     False               False   \n",
            "3     False     False     False     False     False               False   \n",
            "4     False     False     False     False     False               False   \n",
            "\n",
            "   CancellationCode_B  CancellationCode_nan  \n",
            "0               False                  True  \n",
            "1               False                  True  \n",
            "2               False                  True  \n",
            "3               False                  True  \n",
            "4               False                  True  \n",
            "\n",
            "[5 rows x 634 columns]\n",
            "Размер преобразованного DataFrame: (63404, 634)\n"
          ]
        }
      ],
      "source": [
        "from sklearn.preprocessing import StandardScaler\n",
        "\n",
        "def transform_data(data):\n",
        "\n",
        "    df = data.copy()\n",
        "\n",
        "    # Определяем вещественные и категориальные признаки\n",
        "    numeric_features = df.select_dtypes(include=[np.number]).columns.tolist()\n",
        "    categorical_features = df.select_dtypes(include=['object', 'category']).columns.tolist()\n",
        "\n",
        "    # заполнение пропусков\n",
        "    df[numeric_features] = df[numeric_features].fillna(0)\n",
        "    df[categorical_features] = df[categorical_features].fillna('nan')\n",
        "\n",
        "    # масштабирование числовых признаков\n",
        "    scaler = StandardScaler()\n",
        "    df_numeric_scaled = pd.DataFrame(scaler.fit_transform(df[numeric_features]),\n",
        "                                     columns=numeric_features,\n",
        "                                     index=df.index)\n",
        "\n",
        "    # кодирование категориальных признаков - числовые столбцы\n",
        "    df_categorical_encoded = pd.get_dummies(df[categorical_features], dummy_na=False)\n",
        "\n",
        "    # объединение масштабированные числовые и закодированные категориальные\n",
        "    df_transformed = pd.concat([df_numeric_scaled, df_categorical_encoded], axis=1)\n",
        "\n",
        "    return df_transformed\n",
        "X_transformed = transform_data(X)\n",
        "print(X_transformed.head())\n",
        "print(\"Размер преобразованного DataFrame:\", X_transformed.shape)"
      ]
    },
    {
      "cell_type": "markdown",
      "metadata": {
        "id": "vO3v1lrliEHO"
      },
      "source": [
        "Примените функцию transform_data к данным. Сколько признаков получилось после преобразования?"
      ]
    },
    {
      "cell_type": "code",
      "execution_count": 55,
      "metadata": {
        "collapsed": true,
        "colab": {
          "base_uri": "https://localhost:8080/"
        },
        "id": "phknQi06iEHO",
        "outputId": "dfe72965-2321-4d2d-f960-8281d5db918d"
      },
      "outputs": [
        {
          "output_type": "stream",
          "name": "stdout",
          "text": [
            "Количество признаков после преобразования: 634\n"
          ]
        }
      ],
      "source": [
        "X_transformed = transform_data(X)\n",
        "\n",
        "print(\"Количество признаков после преобразования:\", X_transformed.shape[1])"
      ]
    },
    {
      "cell_type": "markdown",
      "metadata": {
        "id": "uxrn3daDiEHO"
      },
      "source": [
        "**16. (0.5 балла)** Разбейте выборку и вектор целевой переменной на обучение и контроль в отношении 70/30 (для этого можно использовать, например, функцию [train_test_split](http://scikit-learn.org/stable/modules/generated/sklearn.cross_validation.train_test_split.html))."
      ]
    },
    {
      "cell_type": "code",
      "execution_count": 56,
      "metadata": {
        "collapsed": true,
        "colab": {
          "base_uri": "https://localhost:8080/"
        },
        "id": "uLul8XcGiEHP",
        "outputId": "7b276870-81f9-469d-deba-06444a17caac"
      },
      "outputs": [
        {
          "output_type": "stream",
          "name": "stdout",
          "text": [
            "Размер X_train: (44382, 634)\n",
            "Размер X_test: (19022, 634)\n",
            "Размер y_train: (44382,)\n",
            "Размер y_test: (19022,)\n"
          ]
        }
      ],
      "source": [
        "from sklearn.model_selection import train_test_split\n",
        "\n",
        "# Разделяем X и y на обучающую и тестовую выборки\n",
        "X_train, X_test, y_train, y_test = train_test_split(\n",
        "    X_transformed,   # признаки\n",
        "    y,               # целевая переменная\n",
        "    test_size=0.3,   # 30% данных в тест, 70 в обучение\n",
        "    random_state=42  #случайное разбиение, чтобы результат был одинаковым\n",
        ")\n",
        "\n",
        "# Проверяем размеры выборок\n",
        "print(\"Размер X_train:\", X_train.shape)\n",
        "print(\"Размер X_test:\", X_test.shape)\n",
        "print(\"Размер y_train:\", y_train.shape)\n",
        "print(\"Размер y_test:\", y_test.shape)"
      ]
    },
    {
      "cell_type": "markdown",
      "metadata": {
        "id": "BJLoGuw6iEHP"
      },
      "source": [
        "### Scikit-learn\n",
        "\n",
        "<img src = \"https://pp.vk.me/c4534/u35727827/93547647/x_d31c4463.jpg\">\n",
        "Теперь, когда мы привели данные к пригодному виду, попробуем решить задачу при помощи метода наименьших квадратов. Напомним, что данный метод заключается в оптимизации функционала $MSE$:\n",
        "\n",
        "$$MSE(X, y) = \\frac{1}{l} \\sum_{i=1}^l (<w, x_i> - y_i)^2 \\to \\min_{w},$$\n",
        "\n",
        "где $\\{ (x_i, y_i ) \\}_{i=1}^l$ — обучающая выборка, состоящая из $l$ пар объект-ответ.\n",
        "\n",
        "Заметим, что решение данной задачи уже реализовано в модуле sklearn в виде класса [LinearRegression](http://scikit-learn.org/stable/modules/generated/sklearn.linear_model.LinearRegression.html#sklearn.linear_model.LinearRegression).\n",
        "\n",
        "**17. (0.5 балла)** Обучите линейную регрессию на 1000 объектах из обучающей выборки и выведите значения $MSE$ и $R^2$ на этой подвыборке и контрольной выборке (итого 4 различных числа). Проинтерпретируйте полученный результат — насколько качественные прогнозы строит полученная модель? Какие проблемы наблюдаются в модели?\n",
        "\n",
        "**Подсказка**: изучите значения полученных коэффициентов $w$, сохраненных в атрибуте coef_ объекта LinearRegression."
      ]
    },
    {
      "cell_type": "code",
      "execution_count": 57,
      "metadata": {
        "collapsed": true,
        "colab": {
          "base_uri": "https://localhost:8080/"
        },
        "id": "5WChJGgtiEHP",
        "outputId": "e57c1172-1e41-4d75-a69b-bfcfe2ec7fdd"
      },
      "outputs": [
        {
          "output_type": "stream",
          "name": "stdout",
          "text": [
            "MSE на обучающей подвыборке: 42.16\n",
            "MSE на тестовой выборке: 102.18\n",
            "R^2 на обучающей подвыборке: 0.9602\n",
            "R^2 на тестовой выборке: 0.9236\n",
            "\n",
            "Крупные коэффициенты модели:\n",
            "Origin_ABI           36.552127\n",
            "Origin_SWF           31.523353\n",
            "ArrDelay             21.020750\n",
            "Origin_JFK           14.351428\n",
            "Dest_BOI             11.131465\n",
            "Origin_JAX           11.125707\n",
            "Origin_IND           10.885073\n",
            "Origin_VPS           10.657243\n",
            "Origin_PHL           10.316941\n",
            "LateAircraftDelay    10.036805\n",
            "dtype: float64\n"
          ]
        }
      ],
      "source": [
        "from sklearn.linear_model import LinearRegression\n",
        "from sklearn.metrics import mean_squared_error, r2_score\n",
        "\n",
        "X_train_sub = X_train.iloc[:1000]\n",
        "y_train_sub = y_train.iloc[:1000]\n",
        "\n",
        "# создаём и обуч модель\n",
        "model = LinearRegression()\n",
        "model.fit(X_train_sub, y_train_sub)\n",
        "\n",
        "# предсказания\n",
        "y_train_pred = model.predict(X_train_sub)\n",
        "y_test_pred = model.predict(X_test)\n",
        "\n",
        "# вычисляем метрики\n",
        "mse_train = mean_squared_error(y_train_sub, y_train_pred)\n",
        "mse_test = mean_squared_error(y_test, y_test_pred)\n",
        "r2_train = r2_score(y_train_sub, y_train_pred)\n",
        "r2_test = r2_score(y_test, y_test_pred)\n",
        "\n",
        "print(f\"MSE на обучающей подвыборке: {mse_train:.2f}\")\n",
        "print(f\"MSE на тестовой выборке: {mse_test:.2f}\")\n",
        "print(f\"R^2 на обучающей подвыборке: {r2_train:.4f}\")\n",
        "print(f\"R^2 на тестовой выборке: {r2_test:.4f}\")\n",
        "\n",
        "coef = pd.Series(model.coef_, index=X_train_sub.columns)\n",
        "print(\"\\nКрупные коэффициенты модели:\")\n",
        "print(coef.sort_values(ascending=False).head(10))"
      ]
    },
    {
      "cell_type": "markdown",
      "metadata": {
        "collapsed": true,
        "id": "VRsKT_RqiEHP"
      },
      "source": [
        "Для решения описанных вами в предыдущем пункте проблем используем L1- или L2-регуляризацию, тем самым получив Lasso и Ridge регрессии соответственно и изменив оптимизационную задачу одним из следующих образов:\n",
        "$$MSE_{L1}(X, y) = \\frac{1}{l} \\sum_{i=1}^l (<w, x_i> - y_i)^2 + \\alpha ||w||_1 \\to \\min_{w},$$\n",
        "$$MSE_{L2}(X, y) = \\frac{1}{l} \\sum_{i=1}^l (<w, x_i> - y_i)^2 + \\alpha ||w||_2^2 \\to \\min_{w},$$\n",
        "\n",
        "где $\\alpha$ — коэффициент регуляризации. Один из способов его подбора заключается в переборе некоторого количества значений и оценке качества на кросс-валидации для каждого из них, после чего выбирается значение, для которого было получено наилучшее качество."
      ]
    },
    {
      "cell_type": "code",
      "execution_count": 58,
      "metadata": {
        "colab": {
          "base_uri": "https://localhost:8080/"
        },
        "id": "g7Yeg3_UiEHP",
        "outputId": "325809aa-8f1c-4a9d-a52d-9d61de22ce74"
      },
      "outputs": [
        {
          "output_type": "stream",
          "name": "stdout",
          "text": [
            "alpha=0.01, R² среднее по кросс-валидации=0.9011\n",
            "alpha=0.1, R² среднее по кросс-валидации=0.9031\n",
            "alpha=1, R² среднее по кросс-валидации=0.9104\n",
            "alpha=10, R² среднее по кросс-валидации=0.9152\n",
            "alpha=100, R² среднее по кросс-валидации=0.9036\n",
            "Лучшее значение alpha для Ridge: 10, R²=0.9152\n"
          ]
        }
      ],
      "source": [
        "from sklearn.linear_model import Lasso, Ridge\n",
        "from sklearn.model_selection import cross_val_score\n",
        "\n",
        "alphas = [0.01, 0.1, 1, 10, 100]\n",
        "best_alpha = None\n",
        "best_score = -np.inf\n",
        "X_train_sub = X_train.iloc[:1000]\n",
        "y_train_sub = y_train.iloc[:1000]\n",
        "\n",
        "for alpha in alphas:\n",
        "    model = Ridge(alpha=alpha)\n",
        "    # кросс-валидация по R²\n",
        "    scores = cross_val_score(model, X_train_sub, y_train_sub, cv=5, scoring='r2')\n",
        "    mean_score = np.mean(scores)\n",
        "    print(f\"alpha={alpha}, R² среднее по кросс-валидации={mean_score:.4f}\")\n",
        "\n",
        "    if mean_score > best_score:\n",
        "        best_score = mean_score\n",
        "        best_alpha = alpha\n",
        "\n",
        "print(f\"Лучшее значение alpha для Ridge: {best_alpha}, R²={best_score:.4f}\")"
      ]
    },
    {
      "cell_type": "markdown",
      "metadata": {
        "id": "IQp3jL3ciEHQ"
      },
      "source": [
        "__18. (1 балл) __ Обучение линейной регрессии.\n",
        "\n",
        "\n",
        "\n",
        "Обучите линейную регрессию с $L_1$ (Lasso) и $L_2$ (Ridge) регуляризаторами (используйте параметры по умолчанию). Посмотрите, какое количество коэффициентов близко к 0 (степень близости к 0 определите сами из разумных пределов). Постройте график зависимости числа ненулевых коэффициентов от коэффицента регуляризации (перебирайте значения по логарифмической сетке от $10^{-3}$ до $10^3$). Согласуются ли результаты с вашими ожиданиями?"
      ]
    },
    {
      "cell_type": "code",
      "execution_count": 63,
      "metadata": {
        "collapsed": true,
        "colab": {
          "base_uri": "https://localhost:8080/",
          "height": 718
        },
        "id": "0ocqAj9uiEHQ",
        "outputId": "395cd673-ae2d-4bae-ccf1-3281b591ae35"
      },
      "outputs": [
        {
          "output_type": "display_data",
          "data": {
            "text/plain": [
              "<Figure size 800x500 with 1 Axes>"
            ],
            "image/png": "[encoded data removed]"
          },
          "metadata": {}
        },
        {
          "output_type": "stream",
          "name": "stdout",
          "text": [
            "alpha=0.001: Lasso ненулевых=275, Ridge ненулевых=625\n",
            "alpha=0.003: Lasso ненулевых=145, Ridge ненулевых=625\n",
            "alpha=0.010: Lasso ненулевых=81, Ridge ненулевых=625\n",
            "alpha=0.032: Lasso ненулевых=43, Ridge ненулевых=625\n",
            "alpha=0.100: Lasso ненулевых=23, Ridge ненулевых=625\n",
            "alpha=0.316: Lasso ненулевых=11, Ridge ненулевых=626\n",
            "alpha=1.000: Lasso ненулевых=8, Ridge ненулевых=626\n",
            "alpha=3.162: Lasso ненулевых=4, Ridge ненулевых=626\n",
            "alpha=10.000: Lasso ненулевых=1, Ridge ненулевых=626\n",
            "alpha=31.623: Lasso ненулевых=1, Ridge ненулевых=625\n",
            "alpha=100.000: Lasso ненулевых=0, Ridge ненулевых=625\n",
            "alpha=316.228: Lasso ненулевых=0, Ridge ненулевых=621\n",
            "alpha=1000.000: Lasso ненулевых=0, Ridge ненулевых=609\n"
          ]
        }
      ],
      "source": [
        "import numpy as np\n",
        "import matplotlib.pyplot as plt\n",
        "from sklearn.linear_model import Lasso, Ridge\n",
        "\n",
        "# Порог для \"близких к 0\" коэффициентов\n",
        "threshold = 1e-3\n",
        "\n",
        "# Логарифмическая сетка для alpha, чем больше, тем сильнее штраф за большие веса\n",
        "alphas = np.logspace(-3, 3, 13)\n",
        "\n",
        "#для неравных 0\n",
        "lasso_nonzero = []\n",
        "ridge_nonzero = []\n",
        "\n",
        "for alpha in alphas:\n",
        "\n",
        "    lasso = Lasso(alpha=alpha, max_iter=10000)\n",
        "    lasso.fit(X_train, y_train)\n",
        "    nonzero_lasso = np.sum(np.abs(lasso.coef_) > threshold)\n",
        "    lasso_nonzero.append(nonzero_lasso)\n",
        "\n",
        "    ridge = Ridge(alpha=alpha)\n",
        "    ridge.fit(X_train, y_train)\n",
        "    nonzero_ridge = np.sum(np.abs(ridge.coef_) > threshold)\n",
        "    ridge_nonzero.append(nonzero_ridge)\n",
        "\n",
        "plt.figure(figsize=(8,5))\n",
        "plt.plot(alphas, lasso_nonzero, label='Lasso (L1)', marker='o')\n",
        "plt.plot(alphas, ridge_nonzero, label='Ridge (L2)', marker='s')\n",
        "plt.xscale('log')\n",
        "plt.xlabel('Alpha (коэффициент регуляризации)')\n",
        "plt.ylabel('Количество ненулевых коэффициентов')\n",
        "plt.title('Количество ненулевых коэффициентов от Alpha')\n",
        "plt.legend()\n",
        "plt.grid(True)\n",
        "plt.show()\n",
        "\n",
        "for i, alpha in enumerate(alphas):\n",
        "    print(f\"alpha={alpha:.3f}: Lasso ненулевых={lasso_nonzero[i]}, Ridge ненулевых={ridge_nonzero[i]}\")"
      ]
    },
    {
      "cell_type": "markdown",
      "metadata": {
        "id": "dxAlJmaViEHQ"
      },
      "source": [
        "Посчитайте для Ridge-регрессии следующие метрики: $RMSE$, $MAE$, $R^2$."
      ]
    },
    {
      "cell_type": "code",
      "execution_count": 61,
      "metadata": {
        "collapsed": true,
        "id": "dXlnK-2GiEHR",
        "colab": {
          "base_uri": "https://localhost:8080/"
        },
        "outputId": "ce1a9231-98fe-4313-8bd3-ebd3c6280851"
      },
      "outputs": [
        {
          "output_type": "stream",
          "name": "stdout",
          "text": [
            "Метрики для обучающей выборки:\n",
            "RMSE: 8.269\n",
            "MAE: 5.322\n",
            "R²: 0.947\n",
            "\n",
            "Метрики для тестовой выборки:\n",
            "RMSE: 8.539\n",
            "MAE: 5.378\n",
            "R²: 0.945\n"
          ]
        }
      ],
      "source": [
        "from sklearn.linear_model import Ridge\n",
        "from sklearn.metrics import mean_squared_error, mean_absolute_error, r2_score\n",
        "import numpy as np\n",
        "\n",
        "ridge = Ridge(alpha=1.0)\n",
        "ridge.fit(X_train, y_train)\n",
        "\n",
        "# Предсказания\n",
        "y_pred_train = ridge.predict(X_train)\n",
        "y_pred_test = ridge.predict(X_test)\n",
        "\n",
        "# Метрики на обучающей выборке\n",
        "rmse_train = np.sqrt(mean_squared_error(y_train, y_pred_train))\n",
        "mae_train = mean_absolute_error(y_train, y_pred_train)\n",
        "r2_train = r2_score(y_train, y_pred_train)\n",
        "\n",
        "# Метрики на тестовой выборке\n",
        "rmse_test = np.sqrt(mean_squared_error(y_test, y_pred_test))\n",
        "mae_test = mean_absolute_error(y_test, y_pred_test)\n",
        "r2_test = r2_score(y_test, y_pred_test)\n",
        "\n",
        "print(\"Метрики для обучающей выборки:\")\n",
        "print(f\"RMSE: {rmse_train:.3f}\")\n",
        "print(f\"MAE: {mae_train:.3f}\")\n",
        "print(f\"R²: {r2_train:.3f}\")\n",
        "\n",
        "print(\"\\nМетрики для тестовой выборки:\")\n",
        "print(f\"RMSE: {rmse_test:.3f}\")\n",
        "print(f\"MAE: {mae_test:.3f}\")\n",
        "print(f\"R²: {r2_test:.3f}\")"
      ]
    },
    {
      "cell_type": "markdown",
      "metadata": {
        "id": "ltsLRy11iEHR"
      },
      "source": [
        "Подберите на обучающей выборке для Ridge-регрессии коэффициент регуляризации (перебирайте значения по логарифмической сетке от $10^{-3}$ до $10^3$) для каждой из метрик при помощи кросс-валидации c 5 фолдами на тех же 1000 объектах. Для этого воспользуйтесь GridSearchCV и KFold из sklearn. Постройте графики зависимости фукнции потерь от коэффициента регуляризации. Посчитайте те же метрики снова. Заметно ли изменилось качество?\n",
        "\n",
        "Для выполнения данного задания вам могут понадобиться реализованные в библиотеке объекты [LassoCV](http://scikit-learn.org/stable/modules/generated/sklearn.linear_model.LassoCV.html), [RidgeCV](http://scikit-learn.org/stable/modules/generated/sklearn.linear_model.RidgeCV.html) и [KFold](http://scikit-learn.org/stable/modules/generated/sklearn.cross_validation.KFold.html)."
      ]
    },
    {
      "cell_type": "code",
      "execution_count": 69,
      "metadata": {
        "collapsed": true,
        "id": "k0ahXc8CiEHR",
        "colab": {
          "base_uri": "https://localhost:8080/",
          "height": 509
        },
        "outputId": "02a43c82-4f8d-4368-8203-dc6b5ee3ef5b"
      },
      "outputs": [
        {
          "output_type": "stream",
          "name": "stdout",
          "text": [
            "Лучшее значение alpha: 10.0\n"
          ]
        },
        {
          "output_type": "display_data",
          "data": {
            "text/plain": [
              "<Figure size 800x500 with 1 Axes>"
            ],
            "image/png": "[encoded data removed]"
          },
          "metadata": {}
        }
      ],
      "source": [
        "import numpy as np\n",
        "import matplotlib.pyplot as plt\n",
        "from sklearn.linear_model import Ridge\n",
        "from sklearn.model_selection import GridSearchCV\n",
        "from sklearn.metrics import make_scorer, mean_squared_error\n",
        "\n",
        "alphas = np.logspace(-3, 3, 13)\n",
        "\n",
        "ridge = Ridge()\n",
        "\n",
        "mse_scorer = make_scorer(mean_squared_error, greater_is_better=False)  # отрицательный MSE\n",
        "\n",
        "# Настройка GridSearchCV\n",
        "param_grid = {'alpha': alphas}\n",
        "grid = GridSearchCV(ridge, param_grid, cv=5, scoring=mse_scorer, return_train_score=True)\n",
        "grid.fit(X_train, y_train)\n",
        "\n",
        "print(f\"Лучшее значение alpha: {grid.best_params_['alpha']}\")\n",
        "\n",
        "# MSE для каждого alpha\n",
        "mean_test_mse = -grid.cv_results_['mean_test_score']  # переворачиваем знак\n",
        "mean_train_mse = -grid.cv_results_['mean_train_score']\n",
        "\n",
        "plt.figure(figsize=(8,5))\n",
        "plt.plot(alphas, mean_train_mse, marker='o', label='Train MSE')\n",
        "plt.plot(alphas, mean_test_mse, marker='s', label='Test MSE')\n",
        "plt.xscale('log')\n",
        "plt.xlabel(\"Alpha\")\n",
        "plt.ylabel(\"MSE\")\n",
        "plt.title(\"Зависимость MSE от коэффициента регуляризации\")\n",
        "plt.legend()\n",
        "plt.grid(True)\n",
        "plt.show()\n",
        "\n"
      ]
    },
    {
      "cell_type": "markdown",
      "metadata": {
        "collapsed": true,
        "id": "5cZrjEr5iEHR"
      },
      "source": [
        "__19. (0.5 балла)__ Поиск объектов-выбросов\n",
        "\n",
        "\n",
        "Как известно, MSE сильно штрафует за большие ошибки на объектах-выбросах. С помощью cross_val_predict сделайте Out-of-Fold предсказания для обучающей выборки. Посчитайте ошибки и посмотрите на их распределение (plt.hist). Что вы видите?"
      ]
    },
    {
      "cell_type": "code",
      "execution_count": 66,
      "metadata": {
        "id": "KtEZwECjiEHR",
        "colab": {
          "base_uri": "https://localhost:8080/",
          "height": 523
        },
        "outputId": "f00c4265-3400-48b4-d680-aea2d1d76e43"
      },
      "outputs": [
        {
          "output_type": "stream",
          "name": "stdout",
          "text": [
            "Максимальная ошибка: 336.278\n",
            "Минимальная ошибка: -91.065\n"
          ]
        },
        {
          "output_type": "display_data",
          "data": {
            "text/plain": [
              "<Figure size 800x500 with 1 Axes>"
            ],
            "image/png": "[encoded data removed]"
          },
          "metadata": {}
        }
      ],
      "source": [
        "from sklearn.model_selection import cross_val_predict\n",
        "from sklearn.linear_model import Ridge\n",
        "import matplotlib.pyplot as plt\n",
        "import numpy as np\n",
        "\n",
        "ridge = Ridge(alpha=best_alpha)\n",
        "\n",
        "# Out-of-Fold предсказания на обучающей выборке\n",
        "y_pred_oof = cross_val_predict(ridge, X_train, y_train, cv=5)\n",
        "\n",
        "errors = y_train - y_pred_oof\n",
        "\n",
        "max_error = np.max(errors)\n",
        "min_error = np.min(errors)\n",
        "print(f\"Максимальная ошибка: {max_error:.3f}\")\n",
        "print(f\"Минимальная ошибка: {min_error:.3f}\")\n",
        "\n",
        "plt.figure(figsize=(8,5))\n",
        "plt.hist(errors, bins=50, color='skyblue', edgecolor='black')\n",
        "plt.xlabel(\"Ошибка предсказания (y_true - y_pred)\")\n",
        "plt.ylabel(\"Количество объектов\")\n",
        "plt.title(\"Распределение ошибок модели (Out-of-Fold)\")\n",
        "plt.grid(True)\n",
        "plt.show()"
      ]
    }
  ],
  "metadata": {
    "kernelspec": {
      "display_name": "Python 3 (ipykernel)",
      "language": "python",
      "name": "python3"
    },
    "language_info": {
      "codemirror_mode": {
        "name": "ipython",
        "version": 3
      },
      "file_extension": ".py",
      "mimetype": "text/x-python",
      "name": "python",
      "nbconvert_exporter": "python",
      "pygments_lexer": "ipython3",
      "version": "3.10.11"
    },
    "colab": {
      "provenance": []
    }
  },
  "nbformat": 4,
  "nbformat_minor": 0
}